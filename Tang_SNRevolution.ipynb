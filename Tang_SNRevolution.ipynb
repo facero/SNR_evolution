{
 "cells": [
  {
   "cell_type": "markdown",
   "metadata": {},
   "source": [
    "## Shock evolution in non-radiative supernova remnants\n",
    "\n",
    "Code adapated from Tang&Chevalier, 2016 to describe the evolution of the shock radius and shock speed as a function of time. These solutions are similar to the Truelove&McKee, 1999 solutions but they provide a better accuracy when compared with hydro numerical simulations in particular in the case for s=2 and high ejecta index.\n"
   ]
  },
  {
   "cell_type": "code",
   "execution_count": 6,
   "metadata": {
    "collapsed": true
   },
   "outputs": [],
   "source": [
    "%matplotlib inline\n",
    "#%matplotlib notebook\n",
    "\n",
    "# futur division is very important for exponent: 1/2 = 0.5 and not 0\n",
    "from __future__ import  division, print_function\n",
    "import matplotlib.pyplot as plt\n",
    "import matplotlib as mpl\n",
    "import numpy as np\n",
    "from astropy import units as u\n",
    "from ipywidgets.widgets.interaction import interact, fixed\n",
    "from scipy import interpolate\n",
    "\n",
    "def tang_evol(Tsnr,Mej=1, E51snr=1, n0=1, Rdensity=9.6,n=9,s=2):\n",
    "    \"\"\"\n",
    "    Tang&Chevalier2016 equations for s=0 or s=2. Simpler and better precision than TM99 for s=2.\n",
    "    Equations return the radius and Vsh  (by deriving t(R)) for a\n",
    "    a given Mejecta, E51snr, upstream density, ejecta slope (n) and\n",
    "    homogeneous ambient medium (s=0) or wind progenitor (s=2).\n",
    "    \n",
    "    Inputs:\n",
    "    Tsnr: array (or scalar) of age of the SNR in yrs\n",
    "    Mej: ejecta mass in solar mass\n",
    "    E51snr: explosion energy in 10**51 ergs\n",
    "    n0: density in cm-3\n",
    "    Rdensity: normalization for the case s=2 for n0 at a given density\n",
    "    n: slope in the ejecta\n",
    "    s: 0/2 for homogenous medium/wind progenitor.\n",
    "       for s=2, the density is given at a certain radius Rdensity (pc)\n",
    "    \n",
    "    Outputs:\n",
    "    Rb  : Array of blast wave radius in pc\n",
    "    Vsh : Array of shock speed in km/s\n",
    "    \n",
    "    F. Acero, August 2016\n",
    "    \n",
    "    \"\"\"\n",
    "\n",
    "\n",
    "    #tch is in yr and Rch in pc\n",
    "    #Vsh will therefore be in pc/yr\n",
    "    if s == 2:\n",
    "        tch=5633*E51snr**(-1/2.)*Mej**(3/2)*(n0*Rdensity**2)**(-1) #*3.15e7  # Eq A3 from Laming 2003, page 358\n",
    "        Rch=40.74*(Mej)*(n0*Rdensity**2)**(-1)  #         # Eq A4 from Laming03\n",
    "        ksi= 3/(2*np.pi)\n",
    "        mydict={6:(3.8,0.77),7:(2.9,0.83),8:(2.3,0.90),9:(2.0,0.97),\n",
    "                10:(1.7,1.03),12:(1.5,1.14),14:(1.34,1.23)}\n",
    "\n",
    "    if s == 0:\n",
    "        tch=473.6*E51snr**(-1/2.)*Mej**(5/6)*n0**(-1/3) # Eq A1 from Laming 2003, page 357. Corrected by Hwang12, Eq A1\n",
    "        Rch=3.43*(Mej)**(1./3.)*(n0)**(-1/3)          # Eq A2 from Laming 2003, page 357.Corrected by Hwang12, Eq A2\n",
    "        ksi=2.026\n",
    "        mydict={6:(8.5,1.05),7:(4.5,1.06),8:(3.6,1.08),9:(2.7,1.12),\n",
    "                10:(2.3,1.15),12:(1.9,1.21),14:(1.7,1.26)}\n",
    "\n",
    "    if  isinstance(Tsnr, np.ndarray) == False:\n",
    "        t = np.array([Tsnr])/tch\n",
    "    else:\n",
    "        t = Tsnr/tch\n",
    "\n",
    "\n",
    "    alpha, zeta = mydict[n]\n",
    "    expo1=2*alpha*(n-s)/(n-3)\n",
    "    expo2=1/(2*alpha)\n",
    "    \n",
    "    #Tang relations give an analytical expression for t(R) not for R(t) which would not be analytical \n",
    "    R_ = np.logspace(np.log10(1e-5),np.log10(1e2),num=1000) #intermediate radius expression\n",
    "    t_ = ( (R_/zeta)**expo1 + (R_**(5-s)/ksi)**alpha  )**expo2 \n",
    "    \n",
    "    factor = (5-s)/(2*ksi**alpha)*R_**((5-s)*alpha-1) + 1/zeta*(n-s)/(n-3)*(R_/zeta)**(expo1-1)\n",
    "    v_ = t_**(2*alpha-1)/factor\n",
    "\n",
    "        #Interpolating for R and V at the times Tsnr given in input\n",
    "    f_R = interpolate.interp1d(t_, R_) # reversing order from t(R) to R(t)\n",
    "    f_V = interpolate.interp1d(t_, v_)\n",
    "\n",
    "    \n",
    "    try:\n",
    "        Rpc=f_R(t)*Rch *u.parsec\n",
    "        Vsh=(f_V(t)*Rch/tch * u.parsec/u.year).to('km/s')\n",
    "        m = f_V(t) * t / f_R(t)\n",
    "    except:\n",
    "        print('Error: requested T is outside temporary t array')\n",
    "        print('t_, t min: %s %s'%(np.min(t_),np.min(t)) )\n",
    "        print('t_, t max: %s %s'%(np.max(t_),np.max(t)) )\n",
    "        raise\n",
    "\n",
    "    return Rpc, Vsh, m\n",
    "    \n",
    "  "
   ]
  },
  {
   "cell_type": "code",
   "execution_count": 13,
   "metadata": {
    "collapsed": false
   },
   "outputs": [
    {
     "data": {
      "image/png": "[encoded data removed]",
      "text/plain": [
       "<matplotlib.figure.Figure at 0x1133146a0>"
      ]
     },
     "metadata": {},
     "output_type": "display_data"
    }
   ],
   "source": [
    "Tsnr=np.linspace(10,5e3,num=100)\n",
    "\n",
    "def plot_R_V(Mej,E51snr,n0,n,s):\n",
    "    Rdensity=9.6 # in pc\n",
    "    fig, (ax1,ax2) = plt.subplots(ncols=2, nrows=1,figsize=(15,6))\n",
    "\n",
    "    R,Vsh,m = tang_evol(Tsnr,Mej=Mej, E51snr=E51snr, n0=n0, Rdensity=Rdensity,n=n,s=s) #Mej, E51snr, n0, Rsnr, T\n",
    "\n",
    "    ax1.plot(Tsnr,R,color='red',label='Tang')\n",
    "    ax2.plot(Tsnr,Vsh,color='red',label='Tang')\n",
    "    ax1.set_ylim(0,15)\n",
    "    ax2.set_ylim(1e3,10e3)\n",
    "\n",
    "    ax2.set_title('n=%i s=%i E51=%i Mej=%i n0=%.2f'%(n,s,E51snr,Mej,n0))\n",
    "    ax1.set_ylabel('R (pc)')\n",
    "    ax2.set_ylabel('Vsh (km/s)')\n",
    "\n",
    "    ax1.set_xlabel('T (yrs)')\n",
    "    ax2.set_xlabel('T (yrs)')\n",
    "    plt.legend()\n",
    "    plt.show()\n",
    "\n",
    "\n",
    "interact(plot_R_V,Mej=(4,14,2),E51snr=(0.6,1.6,0.2),n0=(0.01,0.7,0.02),n=(6,12),s=[0,2,2])\n"
   ]
  },
  {
   "cell_type": "code",
   "execution_count": null,
   "metadata": {
    "collapsed": false
   },
   "outputs": [],
   "source": []
  },
  {
   "cell_type": "code",
   "execution_count": null,
   "metadata": {
    "collapsed": true
   },
   "outputs": [],
   "source": []
  }
 ],
 "metadata": {
  "kernelspec": {
   "display_name": "Python [Root]",
   "language": "python",
   "name": "Python [Root]"
  },
  "language_info": {
   "codemirror_mode": {
    "name": "ipython",
    "version": 3
   },
   "file_extension": ".py",
   "mimetype": "text/x-python",
   "name": "python",
   "nbconvert_exporter": "python",
   "pygments_lexer": "ipython3",
   "version": "3.5.2"
  }
 },
 "nbformat": 4,
 "nbformat_minor": 0
}
